{
  "nbformat": 4,
  "nbformat_minor": 0,
  "metadata": {
    "colab": {
      "provenance": [],
      "authorship_tag": "ABX9TyPD2gEtuLjcKf9/U9l1uUeh",
      "include_colab_link": true
    },
    "kernelspec": {
      "name": "python3",
      "display_name": "Python 3"
    },
    "language_info": {
      "name": "python"
    }
  },
  "cells": [
    {
      "cell_type": "markdown",
      "metadata": {
        "id": "view-in-github",
        "colab_type": "text"
      },
      "source": [
        "<a href=\"https://colab.research.google.com/github/alihojatnia/GNNs/blob/main/Simple_GNN.ipynb\" target=\"_parent\"><img src=\"https://colab.research.google.com/assets/colab-badge.svg\" alt=\"Open In Colab\"/></a>"
      ]
    },
    {
      "cell_type": "code",
      "execution_count": 1,
      "metadata": {
        "id": "oudhSzo5Tqd5"
      },
      "outputs": [],
      "source": [
        "%%capture\n",
        "!pip install dgl \n",
        "!pip install dgl\n",
        "!pip install dgllife\n",
        "!pip install rdkit"
      ]
    },
    {
      "cell_type": "code",
      "source": [
        "from torch.utils.data import DataLoader\n",
        "import dgl\n",
        "import dgllife\n",
        "from dgllife import data\n",
        "from dgllife.data import ESOL\n",
        "from dgllife.utils import CanonicalAtomFeaturizer,CanonicalBondFeaturizer\n",
        "import torch\n",
        "import torch.nn as nn\n",
        "import torch.nn.functional as F\n",
        "import dgl.function as fn\n",
        "from dgl import DGLGraph"
      ],
      "metadata": {
        "id": "tJLwWMtfYpCM"
      },
      "execution_count": 20,
      "outputs": []
    },
    {
      "cell_type": "code",
      "source": [
        "import torch\n",
        "import torch.nn as nn\n",
        "import dgl\n",
        "import dgl.function as fn\n",
        "import dgllife\n",
        "from dgllife.utils import CanonicalAtomFeaturizer,CanonicalBondFeaturizer\n",
        "# Define the node and edge featurizers\n",
        "node_f = CanonicalAtomFeaturizer()\n",
        "edge_f =CanonicalBondFeaturizer()\n",
        "\n",
        "# Load the ESOL dataset\n",
        "g = dgllife.data.ESOL(node_featurizer=node_f, edge_featurizer=edge_f)\n",
        "\n",
        "\n",
        "class GNN(nn.Module):\n",
        "    def __init__(self, in_feats, hidden_size, out_feats):\n",
        "        super(GNN, self).__init__()\n",
        "        self.linear1 = nn.Linear(in_feats, hidden_size)\n",
        "        self.linear2 = nn.Linear(hidden_size, out_feats)\n",
        "\n",
        "    def forward(self, g, inputs):\n",
        "        h = torch.relu(self.linear1(inputs))\n",
        "        h = self.linear2(h)\n",
        "        return h\n",
        "\n",
        "\n",
        "def message_func(edges):\n",
        "    return {'m': edges.src['h']}\n",
        "\n",
        "\n",
        "def reduce_func(nodes):\n",
        "    return {'h': torch.mean(nodes.mailbox['m'], dim=1)}\n",
        "\n",
        "\n",
        "class Model(nn.Module):\n",
        "    def __init__(self, in_feats, hidden_size, out_feats):\n",
        "        super(Model, self).__init__()\n",
        "        self.gnn = GNN(in_feats, hidden_size, out_feats)\n",
        "\n",
        "    def forward(self, g, inputs):\n",
        "        g.ndata['h'] = inputs\n",
        "        g.update_all(message_func, reduce_func)\n",
        "        return dgl.mean_nodes(g, \"h\")\n",
        "\n",
        "\n",
        "model = Model(in_feats=74, hidden_size=32, out_feats=1)\n",
        "\n",
        "\n",
        "criterion = nn.MSELoss()\n",
        "optimizer = torch.optim.Adam(model.parameters(), lr=0.001)\n",
        "\n",
        "for epoch in range(5):\n",
        "    total_loss = 0\n",
        "    for i, graph in enumerate(g.graphs):\n",
        "        optimizer.zero_grad()\n",
        "        output = model(graph, graph.ndata['h'])\n",
        "        output.requires_grad = True\n",
        "        loss = criterion(output, g.labels[i].unsqueeze(0))\n",
        "        loss.backward()\n",
        "        optimizer.step()\n",
        "        total_loss += loss.item()\n",
        "    print(\"Epoch {}, Average Loss: {:.4f}\".format(epoch, total_loss / len(g.graphs)))\n",
        "\n"
      ],
      "metadata": {
        "id": "xByKkWWlurLa",
        "colab": {
          "base_uri": "https://localhost:8080/"
        },
        "outputId": "af8206da-d51d-46ce-e071-75f9e02dc623"
      },
      "execution_count": 19,
      "outputs": [
        {
          "output_type": "stream",
          "name": "stdout",
          "text": [
            "Processing dgl graphs from scratch...\n",
            "Processing molecule 1000/1128\n"
          ]
        },
        {
          "output_type": "stream",
          "name": "stderr",
          "text": [
            "/usr/local/lib/python3.8/dist-packages/torch/nn/modules/loss.py:536: UserWarning: Using a target size (torch.Size([1, 1])) that is different to the input size (torch.Size([1, 74])). This will likely lead to incorrect results due to broadcasting. Please ensure they have the same size.\n",
            "  return F.mse_loss(input, target, reduction=self.reduction)\n",
            "/usr/local/lib/python3.8/dist-packages/dgl/core.py:84: DGLWarning: The input graph for the user-defined edge function does not contain valid edges\n",
            "  dgl_warning(\n"
          ]
        },
        {
          "output_type": "stream",
          "name": "stdout",
          "text": [
            "Epoch 0, Average Loss: 14.1923\n",
            "Epoch 1, Average Loss: 14.1869\n",
            "Epoch 2, Average Loss: 14.1914\n",
            "Epoch 3, Average Loss: 14.1880\n",
            "Epoch 4, Average Loss: 14.1911\n",
            "Epoch 5, Average Loss: 14.1885\n",
            "Epoch 6, Average Loss: 14.1910\n",
            "Epoch 7, Average Loss: 14.1888\n",
            "Epoch 8, Average Loss: 14.1910\n",
            "Epoch 9, Average Loss: 14.1890\n"
          ]
        }
      ]
    }
  ]
}